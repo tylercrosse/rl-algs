{
  "cells": [
    {
      "cell_type": "markdown",
      "metadata": {},
      "source": "# LunarLander Reward Misspecification Case Study\n\nThis notebook walks through the minimal reward misspecification suite. It loads the summary table produced by `scripts/run_reward_misspec_suite.py` and visualises the resulting behaviours."
    },
    {
      "cell_type": "markdown",
      "metadata": {},
      "source": "## 1. Reproduce the runs\n\nRun the helper script to (re)generate training runs. Use `--synthetic` if you only need placeholder artefacts, or omit it for the full PPO runs.\n\n```bash\npython ../scripts/run_reward_misspec_suite.py --synthetic\n# or\npython ../scripts/run_reward_misspec_suite.py\n```"
    },
    {
      "cell_type": "code",
      "execution_count": null,
      "metadata": {},
      "outputs": [],
      "source": "from pathlib import Path\nimport pandas as pd\n\nproject_root = Path('..').resolve()\nsummary_path = project_root / 'results' / 'reward_misspec_summary.csv'\nsummary = pd.read_csv(summary_path)\nsummary"
    },
    {
      "cell_type": "code",
      "execution_count": null,
      "metadata": {},
      "outputs": [],
      "source": "from IPython.display import Image\n\nfigure_path = project_root / 'results' / 'lunar_lander_reward_misspec.png'\nImage(filename=str(figure_path))"
    },
    {
      "cell_type": "markdown",
      "metadata": {},
      "source": "## 2. Observations\n\n- The misspecified reward (fuel bonus) trains a policy that earns high shaped reward but performs poorly under the ground-truth reward.\n- Clipping the shaping bonus recovers most of the baseline performance while maintaining a smaller incentive to hover.\n- The summary table makes it easy to add other mitigations (cost limits, explicit constraints) for comparison."
    }
  ],
  "metadata": {
    "kernelspec": {
      "display_name": "Python 3",
      "language": "python",
      "name": "python3"
    },
    "language_info": {
      "name": "python",
      "version": "3.10"
    }
  },
  "nbformat": 4,
  "nbformat_minor": 5
}